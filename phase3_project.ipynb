{
 "cells": [
  {
   "cell_type": "markdown",
   "metadata": {},
   "source": [
    "Gözde Ünver 2018400309 \\\n",
    "Mehmet Gökay Yıldız 2017400072"
   ]
  },
  {
   "cell_type": "markdown",
   "metadata": {},
   "source": [
    "## Q1 a)"
   ]
  },
  {
   "cell_type": "markdown",
   "metadata": {},
   "source": [
    "For an input vector with dimension d: $x=\\begin{bmatrix}x_{1} \\\\ x_{2} \\\\: \\\\ x_{d}\\end{bmatrix}$, the weight vector is like this: $w^{*}=\\begin{bmatrix}w_{1}\\\\w_{2}\\\\:\\\\w_{d}\\end{bmatrix}$ and $b^{*}=b$.  \n",
    "Additionally, $u=\\begin{bmatrix} b^{*} \\\\ w^{*}\\end{bmatrix}=\\begin{bmatrix}b\\\\w_{1}\\\\w_{2}\\\\:\\\\ w_{d}\\end{bmatrix}$ and $Q=\\begin{bmatrix} 0&0_{d}^{T} \\\\ 0_{d}&I_{d}\\end{bmatrix}$.\n",
    "Then, $u^{T}Qu=[0\\text{ }w_{1}\\text{ }w_{2}\\text{ }..\\text{ }w_{d}]\\begin{bmatrix}b\\\\w_{1}\\\\w_{2}\\\\:\\\\ w_{d}\\end{bmatrix}=w_{1}^{2}+w_{2}^2+..+w_{d}^2$ which is certainly a non-negative number for any $w_{i}$ values that $i=1,..d$. \n",
    "\n",
    "From the definition of a positive semi-definiteness is that a matrix $Q$ is a positive semi-definite if $u^{T}Qu \\geq 0$. We showed above that $u^{T}Qu$ is non-negative for any $u$ thus, $Q$ is a positive semi-definite matrix."
   ]
  },
  {
   "cell_type": "markdown",
   "metadata": {},
   "source": [
    "## Q1 b)"
   ]
  },
  {
   "cell_type": "markdown",
   "metadata": {},
   "source": [
    "Our objective is: \\\n",
    "$min_{b,w}\\text{ }$  $\\frac{1}{2}w^{T}w$ \\\n",
    "$s.t.\\text{ }$  $y_{n}(w^{T}x_{n}+b)\\geq 1$  $for \\text{ }n=1,2...N$ \\\n",
    "for $x=\\begin{bmatrix} 0&0 \\\\ 0&-1 \\\\ -2&0 \\end{bmatrix}$, there is a $w^{*}$ such that $w^{*}=\\begin{bmatrix} w1 \\\\ w2 \\end{bmatrix}$ and $b^{*}$ such that $b^{*}=b$. \\\n",
    "When we insert $w^{*}$ and $b^{*}$ to the $y_{n}(w^{T}x_{n}+b) \\geq 1$ for $n=1,2..N$ constraint we obtain these: \n",
    "\n",
    "$(1) \\text{ } -b \\geq 1$ \n",
    "\n",
    "$(2) \\text{ }w_{2}-b \\geq 1$ \n",
    "\n",
    "$(3) -2w_{1}+b \\geq 1$ \n",
    "\n",
    "from $(1)$ and $(3)$ $w_{1} \\leq -1$ \n",
    "\n",
    "from $(1)$ and $(2)$ $w_{2}\\leq 0$ \n",
    "\n",
    "In order for $\\frac{1}{2}w^{T}w=\\frac{1}{2}(w_{1}^2+w_{2}^2)$ to be minimum, $w_{1}=-1$ and $w_{2}=0$ and $b$ can be -1 because it satisfies $(1), (2)\\text{ and }(3)$ when we insert $w_{1},w_{2}\\text{ and }b$ into them. \\\n",
    "So, $w^{*}=\\begin{bmatrix} -1 \\\\ 0 \\end{bmatrix}\\text{ and }b^{*}=-1$. The margin is $\\frac{1}{\\lVert w  \\rVert}=\\frac{1}{\\sqrt{1+0}}=1$."
   ]
  },
  {
   "cell_type": "code",
   "execution_count": 67,
   "metadata": {},
   "outputs": [
    {
     "data": {
      "text/plain": [
       "<matplotlib.lines.Line2D at 0x7fb97599f700>"
      ]
     },
     "execution_count": 67,
     "metadata": {},
     "output_type": "execute_result"
    },
    {
     "data": {
      "image/png": "[encoded data removed]",
      "text/plain": [
       "<Figure size 576x576 with 1 Axes>"
      ]
     },
     "metadata": {
      "needs_background": "light"
     },
     "output_type": "display_data"
    }
   ],
   "source": [
    "import matplotlib.pyplot as plt\n",
    "import numpy as np\n",
    "\n",
    "x_1=[0,0,-2]\n",
    "x_2=[0,-1,0]\n",
    "plt.figure(figsize=(8,8))\n",
    "plt.scatter(x_1,x_2)\n",
    "for i in range(3):\n",
    "    plt.annotate(\"Support\\nvector\", (x_1[i], x_2[i]))\n",
    "    plt.plot([x_1[i], -1],[x_2[i],x_2[i]], 'blue', linestyle=\"--\")\n",
    "    plt.annotate(\"Margin=1\", ((x_1[i]-1)/2, x_2[i]))\n",
    "plt.axvline(x=-1,color='red')"
   ]
  },
  {
   "cell_type": "markdown",
   "metadata": {},
   "source": [
    "## Q1 c)"
   ]
  },
  {
   "cell_type": "code",
   "execution_count": 68,
   "metadata": {},
   "outputs": [],
   "source": [
    "from cvxopt import matrix, solvers\n",
    "y=np.array([[-1.,-1.,1.]]).reshape(-1,1)\n",
    "x=np.array([[x_1[0],x_2[0]], [x_1[1],x_2[1]], [x_1[2],x_2[2]]])"
   ]
  },
  {
   "cell_type": "code",
   "execution_count": 69,
   "metadata": {},
   "outputs": [],
   "source": [
    "def create_matrixes(y_,x_):\n",
    "    P_list=[]\n",
    "    \n",
    "    for col in range(x_.shape[0]):\n",
    "        l=[]\n",
    "        \n",
    "        col_x=x_[col,:].reshape(-1,1)\n",
    "        for row in range(x_.shape[0]):\n",
    "            res=np.dot(x_[row,:].reshape(1,-1),col_x)[0,0]*y_[col,:]*y_[row,:]\n",
    "            l.append(res[0])\n",
    "        P_list.append(l)\n",
    "        \n",
    "    P=matrix(P_list)\n",
    "    q=matrix([-1. for i in range(x_.shape[0])],(x_.shape[0],1))\n",
    "    G=matrix(np.identity(x_.shape[0])*-1.)\n",
    "    h=matrix([0. for i in range(x_.shape[0])],(x_.shape[0],1))\n",
    "    A=matrix(y_,(1,x_.shape[0]))\n",
    "    b=matrix([0.],(1,1))\n",
    "\n",
    "    return P, q, G, h, A, b"
   ]
  },
  {
   "cell_type": "code",
   "execution_count": 70,
   "metadata": {},
   "outputs": [
    {
     "name": "stdout",
     "output_type": "stream",
     "text": [
      "     pcost       dcost       gap    pres   dres\n",
      " 0: -4.4983e-01 -1.2111e+00  8e-01  6e-17  1e+00\n",
      " 1: -4.8351e-01 -5.2212e-01  4e-02  6e-17  2e-01\n",
      " 2: -4.9877e-01 -5.0271e-01  4e-03  4e-16  5e-17\n",
      " 3: -4.9981e-01 -5.0021e-01  4e-04  1e-16  1e-16\n",
      " 4: -4.9997e-01 -5.0003e-01  6e-05  1e-16  9e-17\n",
      " 5: -5.0000e-01 -5.0000e-01  8e-06  2e-16  1e-16\n",
      " 6: -5.0000e-01 -5.0000e-01  1e-06  6e-17  8e-17\n",
      " 7: -5.0000e-01 -5.0000e-01  2e-07  1e-16  7e-17\n",
      "Optimal solution found.\n",
      "[ 5.00e-01]\n",
      "[ 3.93e-04]\n",
      "[ 5.00e-01]\n",
      "\n"
     ]
    }
   ],
   "source": [
    "P, q, G, h, A, b=create_matrixes(y,x)\n",
    "solution=solvers.qp(P, q, G, h, A, b)\n",
    "alpha_values=solution['x']\n",
    "print(alpha_values)"
   ]
  },
  {
   "cell_type": "code",
   "execution_count": 71,
   "metadata": {},
   "outputs": [],
   "source": [
    "def create_weight(alphas,x_,y_):\n",
    "    weight=np.zeros((x_.shape[1],1))\n",
    "    for i in range(x_.shape[0]):\n",
    "        weight+=(y_[i,:]*alphas[[i][0]]*x_[i,:].reshape(-1,1)).reshape(-1,1)\n",
    "    return weight"
   ]
  },
  {
   "cell_type": "code",
   "execution_count": 72,
   "metadata": {},
   "outputs": [
    {
     "name": "stdout",
     "output_type": "stream",
     "text": [
      "Optimal weight vector:\n",
      " [[-1.00000001e+00]\n",
      " [ 3.93128191e-04]]\n"
     ]
    }
   ],
   "source": [
    "weight=create_weight(alpha_values,x,y)\n",
    "print(\"Optimal weight vector:\\n\",weight)"
   ]
  },
  {
   "cell_type": "markdown",
   "metadata": {},
   "source": [
    "We can see that the weight values from QP and the weight values from Q1 b) are almost the same if we consider alpha values smaller than 1e-4 as 0 to calculate b using support vectors whose alpha values are greater than 0."
   ]
  },
  {
   "cell_type": "code",
   "execution_count": 81,
   "metadata": {},
   "outputs": [],
   "source": [
    "def create_bias(alphas,x_,y_):\n",
    "    index=0\n",
    "    for i in range(x_.shape[0]):\n",
    "        # we choose a single x value whose alpha is greater than 0 so this means this x value is a support vector and this x value will be used to calculate the optimal bias\n",
    "        if alphas[[i][0]]>1e-4:\n",
    "            index=i\n",
    "            break\n",
    "    x_chosen=x_[index,:]\n",
    "    b=y_[index,:]\n",
    "    for i in range(x_.shape[0]):\n",
    "        b-=y_[i,:]*alphas[[i][0]]*(np.dot(x_[i,:],x_chosen))\n",
    "\n",
    "    return b[0]\n"
   ]
  },
  {
   "cell_type": "code",
   "execution_count": 82,
   "metadata": {},
   "outputs": [
    {
     "name": "stdout",
     "output_type": "stream",
     "text": [
      "Optimal b value:\n",
      " -1.0\n"
     ]
    }
   ],
   "source": [
    "bias=create_bias(alpha_values,x,y)\n",
    "print(\"Optimal b value:\\n\",bias)"
   ]
  },
  {
   "cell_type": "markdown",
   "metadata": {},
   "source": [
    "We can see that the calculated bias value from the QP solution is -1 which is the same value from Q1 b) which we manually solved."
   ]
  },
  {
   "cell_type": "markdown",
   "metadata": {},
   "source": [
    "## Q1 d)"
   ]
  },
  {
   "cell_type": "markdown",
   "metadata": {},
   "source": [
    "In the below code, input and output values are read, PCA is applied (because in phase 1 we chose this approach to extract features) and then finally best 8 features are extracted from the PCA results. Their explanations can be found in the comments of this code."
   ]
  },
  {
   "cell_type": "code",
   "execution_count": 83,
   "metadata": {},
   "outputs": [],
   "source": [
    "from PIL import Image\n",
    "import os\n",
    "def getImagelist(path):\n",
    "    return [int(f.split(\".\")[0]) for f in os.listdir(path)]\n",
    "\n",
    "train_path=\"./phase1_files/3dshapes_train\"\n",
    "train_image_nums=getImagelist(train_path)\n",
    "train_image_nums.sort()\n",
    "x_train = np.array([np.array(Image.open(os.path.join(train_path,str(img)+\".jpg\")).convert('L')).flatten() for img in train_image_nums])\n",
    "y_train=np.load('./phase1_files/orientations_train.npy').reshape(-1,1)\n",
    "test_path=\"./phase1_files/3dshapes_test\"\n",
    "test_image_nums=getImagelist(test_path)\n",
    "test_image_nums.sort()\n",
    "x_test = np.array([np.array(Image.open(os.path.join(test_path,str(img)+\".jpg\")).convert('L')).flatten() for img in test_image_nums])\n",
    "y_test=np.load('./phase1_files/orientations_test.npy').reshape(-1,1)\n",
    "\n",
    "x_train_original = x_train.copy()\n",
    "x_test_original = x_test.copy()\n",
    "y_train_original = y_train.copy()\n",
    "y_test_original = y_test.copy()\n",
    "\n",
    "\n",
    "from sklearn.decomposition import PCA \n",
    "# The reason why we decided to use PCA in phase 1 is from the usage explanation of PCA in this soruce: \n",
    "# https://towardsdatascience.com/principal-component-analysis-for-dimensionality-reduction-115a3d157bad\n",
    "\n",
    "# We extract only top 68 features with high variance from PCA because in Phase-1 we observed that 68 features covered 99 % of the input variance.\n",
    "pca2 = PCA(n_components=68)\n",
    "x_train_pca=pca2.fit_transform(x_train)\n",
    "x_test_pca=pca2.transform(x_test)\n",
    "\n",
    "# The below list of numbers are the most important features we observed in Phase-2 after we applied PCA that's why in the below code we are only extracting\n",
    "# these features from train and test inputs to use them in the following questions.\n",
    "indexes=[3,4,7,8,10,11,12,13]\n",
    "x_train=x_train_pca[:,indexes]\n",
    "x_test=x_test_pca[:,indexes]"
   ]
  },
  {
   "cell_type": "markdown",
   "metadata": {},
   "source": [
    "We have created a normalization function and to use if before using cvxopt's qp solver. The algorithm raises some overflow and similiar kind of errors without normalization."
   ]
  },
  {
   "cell_type": "code",
   "execution_count": 84,
   "metadata": {},
   "outputs": [],
   "source": [
    "def normalize(data):\n",
    "    mean=np.mean(data, axis=0).reshape(1,-1)\n",
    "    std=np.std(data,axis=0).reshape(1,-1)\n",
    "    data=(data-mean)/std\n",
    "    return data,mean,std"
   ]
  },
  {
   "cell_type": "code",
   "execution_count": 85,
   "metadata": {},
   "outputs": [],
   "source": [
    "x_train_normalized,mean,std=normalize(x_train)\n",
    "x_test_normalized=(x_test-mean)/std"
   ]
  },
  {
   "cell_type": "code",
   "execution_count": 86,
   "metadata": {},
   "outputs": [
    {
     "data": {
      "text/plain": [
       "array([-30.        , -25.71428571, -21.42857143, -17.14285714,\n",
       "       -12.85714286,  -8.57142857,  -4.28571429,   0.        ,\n",
       "         4.28571429,   8.57142857,  12.85714286,  17.14285714,\n",
       "        21.42857143,  25.71428571,  30.        ])"
      ]
     },
     "execution_count": 86,
     "metadata": {},
     "output_type": "execute_result"
    }
   ],
   "source": [
    "np.unique(y_train)"
   ]
  },
  {
   "cell_type": "markdown",
   "metadata": {},
   "source": [
    "We have checked the classes and chose output 0 and output 30 to continue with binary classification. In the below code, only the inputs whose outputs are 0 or 30 are chosen. Output 30 is changed to 1 and output 0 is changed to -1."
   ]
  },
  {
   "cell_type": "code",
   "execution_count": 87,
   "metadata": {},
   "outputs": [],
   "source": [
    "idx_30=np.where(y_train==30.)[0]\n",
    "idx_0=np.where(y_train==0.)[0]\n",
    "orientation_30_y_train=y_train[idx_30]\n",
    "orientation_0_y_train=y_train[idx_0]\n",
    "orientation_0_x_train=x_train_normalized[idx_0,:]\n",
    "orientation_30_x_train=x_train_normalized[idx_30,:]\n",
    "x=np.concatenate((orientation_0_x_train, orientation_30_x_train), axis=0)\n",
    "y=np.concatenate((orientation_0_y_train, orientation_30_y_train), axis=0)\n",
    "y[y==30.]=1.\n",
    "y[y==0.]=-1.\n"
   ]
  },
  {
   "cell_type": "markdown",
   "metadata": {},
   "source": [
    "The challenges we faced: Initially, we have directly tried to use 3d shape dataset in cvxopt library. However, we obtained bias as NaN and weight values very small (approximately smaller than e-10) so we have decided to normalize our dataset column by column and than we managed to obtain the below results."
   ]
  },
  {
   "cell_type": "code",
   "execution_count": 88,
   "metadata": {},
   "outputs": [
    {
     "name": "stdout",
     "output_type": "stream",
     "text": [
      "     pcost       dcost       gap    pres   dres\n",
      " 0: -6.5950e+01 -1.1509e+02  4e+03  7e+01  2e+00\n",
      " 1: -3.0924e+01 -1.1339e+01  5e+02  8e+00  2e-01\n",
      " 2: -2.9813e+00 -4.0888e+00  5e+01  7e-01  2e-02\n",
      " 3: -7.1570e-01 -2.7239e+00  9e+00  1e-01  3e-03\n",
      " 4: -7.4272e-01 -1.9556e+00  3e+00  3e-02  8e-04\n",
      " 5: -9.3108e-01 -1.7501e+00  2e+00  1e-02  4e-04\n",
      " 6: -1.0293e+00 -1.8424e+00  1e+00  6e-03  2e-04\n",
      " 7: -1.4764e+00 -1.7286e+00  3e-01  1e-03  4e-05\n",
      " 8: -1.5973e+00 -1.7066e+00  1e-01  6e-04  1e-05\n",
      " 9: -1.6732e+00 -1.6919e+00  2e-02  2e-16  3e-15\n",
      "10: -1.6909e+00 -1.6911e+00  2e-04  1e-15  3e-15\n",
      "11: -1.6911e+00 -1.6911e+00  2e-06  4e-16  3e-15\n",
      "12: -1.6911e+00 -1.6911e+00  2e-08  2e-15  3e-15\n",
      "Optimal solution found.\n",
      "Optimal weight vector:\n",
      " [[-1.23868738]\n",
      " [ 0.0765053 ]\n",
      " [ 0.27915641]\n",
      " [-0.15867443]\n",
      " [ 0.79278381]\n",
      " [ 1.02879509]\n",
      " [-0.22156184]\n",
      " [-0.05343846]]\n",
      "Optimal b value:\n",
      " -1.6963863415987694\n"
     ]
    }
   ],
   "source": [
    "P, q, G, h, A, b=create_matrixes(y,x)\n",
    "solution=solvers.qp(P, q, G, h, A, b)\n",
    "alpha_values=solution['x']\n",
    "weight=create_weight(alpha_values,x,y)\n",
    "print(\"Optimal weight vector:\\n\",weight)\n",
    "bias=create_bias(alpha_values,x,y)\n",
    "print(\"Optimal b value:\\n\",bias)"
   ]
  },
  {
   "cell_type": "markdown",
   "metadata": {},
   "source": [
    "Now in the below code we are testing the performance our SVM algorithm whose weight and bias values are calculated with the help of above qp solver. First we only choose inputs in test dataset whose outputs are 0 or 30. We changed ouput 0 to -1 and output 30 to 1."
   ]
  },
  {
   "cell_type": "code",
   "execution_count": 89,
   "metadata": {},
   "outputs": [],
   "source": [
    "idx_30=np.where(y_test==30.)[0]\n",
    "idx_0=np.where(y_test==0.)[0]\n",
    "orientation_30_y_test=y_test[idx_30]\n",
    "orientation_0_y_test=y_test[idx_0]\n",
    "orientation_0_x_test=x_test_normalized[idx_0,:]\n",
    "orientation_30_x_test=x_test_normalized[idx_30,:]\n",
    "x=np.concatenate((orientation_0_x_test, orientation_30_x_test), axis=0)\n",
    "y=np.concatenate((orientation_0_y_test, orientation_30_y_test), axis=0)\n",
    "y[y==30.]=1.\n",
    "y[y==0.]=-1."
   ]
  },
  {
   "cell_type": "code",
   "execution_count": 90,
   "metadata": {},
   "outputs": [],
   "source": [
    "result = np.sign(np.dot(x,weight)+bias)"
   ]
  },
  {
   "cell_type": "code",
   "execution_count": 91,
   "metadata": {},
   "outputs": [],
   "source": [
    "def check_correctness(pred,gt):\n",
    "    correct_predictions=0\n",
    "    for i in range(len(pred)):\n",
    "        if pred[i]==gt[i]:\n",
    "            correct_predictions+=1\n",
    "    print(\"Number of correctly classified predicitons for the test dataset is\",correct_predictions)\n",
    "    print(\"Accuracy: %\", (correct_predictions/len(gt))*100)"
   ]
  },
  {
   "cell_type": "markdown",
   "metadata": {},
   "source": [
    "This is the accuracy of our test after getting the weight vector from cvxopt solver."
   ]
  },
  {
   "cell_type": "code",
   "execution_count": 92,
   "metadata": {},
   "outputs": [
    {
     "name": "stdout",
     "output_type": "stream",
     "text": [
      "Number of correctly classified predicitons for the test dataset is 121\n",
      "Accuracy: % 100.0\n"
     ]
    }
   ],
   "source": [
    "check_correctness(result,y)"
   ]
  },
  {
   "cell_type": "markdown",
   "metadata": {},
   "source": [
    "## Q1 e)"
   ]
  },
  {
   "cell_type": "code",
   "execution_count": 93,
   "metadata": {},
   "outputs": [],
   "source": [
    "from sklearn import svm\n",
    "\n",
    "y[y==-1.]=0\n",
    "y[y==1.]=1\n",
    "classifier = svm.SVC(C=np.inf)\n",
    "classifier.fit(x, y.reshape(-1))\n",
    "idx_30=np.where(y_test==30.)[0]\n",
    "idx_0=np.where(y_test==0.)[0]\n",
    "\n",
    "orientation_30_y_test=y_test[idx_30]\n",
    "orientation_0_y_test=y_test[idx_0]\n",
    "orientation_0_x_test=x_test_normalized[idx_0,:]\n",
    "orientation_30_x_test=x_test_normalized[idx_30,:]\n",
    "x_test_=np.concatenate((orientation_0_x_test, orientation_30_x_test), axis=0)\n",
    "y_test_=np.concatenate((orientation_0_y_test, orientation_30_y_test), axis=0)\n",
    "\n",
    "y_test_[y_test_==30.]=1\n",
    "\n",
    "prediction=classifier.predict(x_test_)"
   ]
  },
  {
   "cell_type": "code",
   "execution_count": 94,
   "metadata": {},
   "outputs": [
    {
     "name": "stdout",
     "output_type": "stream",
     "text": [
      "Number of correctly classified predicitons for the test dataset is 121\n",
      "Accuracy: % 100.0\n"
     ]
    }
   ],
   "source": [
    "check_correctness(prediction,y_test_)"
   ]
  },
  {
   "cell_type": "markdown",
   "metadata": {},
   "source": [
    "For binary classification, SVC of scikit-learn which is the SVM classifier method, only takes input x and their corresponding y values. It implicitly creates matrixes that are explicitly created by the developer for the cvxopt QP solver. That's why it is easier to use scikit-learn's SVC method. This function executes a soft-margin SVM as deafult but since our problem is hard-margin, we can increase the C value to infinity so it becomes hard margin. This function applies kernel trick which is \"Radial Basis Function\" by default and basically uses squared Euclidean distance on the input and also allows the user to choose different kernel functions. The default kernel function was rbf and we used it as is. Scikit-learn's SVC function solves the dual problem by handling all the internal variable creations and the executions of the functions so it makes the usage of it easier than the qp.solver method of cvxopt. Also the run time of scikit-learn's function was less than cvxopt's qp solver's function."
   ]
  },
  {
   "cell_type": "markdown",
   "metadata": {},
   "source": [
    "## Q1 f)"
   ]
  },
  {
   "cell_type": "markdown",
   "metadata": {},
   "source": [
    "Here the classes with real values are reorganized and labeled with integer values from 0 to 14"
   ]
  },
  {
   "cell_type": "code",
   "execution_count": 95,
   "metadata": {},
   "outputs": [],
   "source": [
    "unique_y_values=np.unique(y_test)\n",
    "vals=np.arange(0,len(unique_y_values))\n",
    "y_test_=np.zeros(y_test.shape)\n",
    "y_train_=np.zeros(y_train.shape)\n",
    "\n",
    "for i in range(len(unique_y_values)):\n",
    "    y_train_[y_train==unique_y_values[i]]=vals[i]\n",
    "    y_test_[y_test==unique_y_values[i]]=vals[i]\n",
    "y_train_=y_train_.flatten()\n",
    "y_test_=y_test_.flatten()"
   ]
  },
  {
   "cell_type": "markdown",
   "metadata": {},
   "source": [
    "In the below SVM classifier, we used the Radial Basis Function as kernel. We gave C as infinite because we want the hard margin solution."
   ]
  },
  {
   "cell_type": "code",
   "execution_count": 96,
   "metadata": {},
   "outputs": [
    {
     "name": "stdout",
     "output_type": "stream",
     "text": [
      "Number of correctly classified predicitons for the test dataset is 985\n",
      "Accuracy: % 98.5\n"
     ]
    }
   ],
   "source": [
    "clf = svm.SVC(C=np.inf,kernel=\"rbf\")\n",
    "clf.fit(x_train,y_train_)\n",
    "\n",
    "prediction=clf.predict(x_test)\n",
    "check_correctness(prediction,y_test_)"
   ]
  },
  {
   "cell_type": "markdown",
   "metadata": {},
   "source": [
    "In the below code we have used LinearSVC which make use of linear kernel function "
   ]
  },
  {
   "cell_type": "code",
   "execution_count": 97,
   "metadata": {},
   "outputs": [
    {
     "name": "stdout",
     "output_type": "stream",
     "text": [
      "Number of correctly classified predicitons for the test dataset is 834\n",
      "Accuracy: % 83.39999999999999\n"
     ]
    }
   ],
   "source": [
    "clf = svm.LinearSVC(max_iter=10000)\n",
    "clf.fit(x_train_normalized,y_train_)\n",
    "prediction=clf.predict(x_test_normalized)\n",
    "check_correctness(prediction,y_test_)"
   ]
  },
  {
   "cell_type": "markdown",
   "metadata": {},
   "source": [
    "We have observed from the results that the SVC function with RBF kernel gave better results."
   ]
  },
  {
   "cell_type": "markdown",
   "metadata": {},
   "source": [
    "## Q1 g)"
   ]
  },
  {
   "cell_type": "markdown",
   "metadata": {},
   "source": [
    "In the Phase-1, we have decided to use PCA to extract the most important features from the 3d_shapes dataset. So, we all used PCA and the features that we have extracted before in all steps of Phase-2 and also previous steps of Phase-2 since we are asked to use the features that we have extracted from the previous phases. We have decided to use PCA in Phase-1 since we found it convenient to our dataset and problem comparing to other methods that we have tested in Phase-1. And we have decided the number of features as 68 in Phase-1 to represent 99% of the data. And in Phase-2 we get the 8 most important features after we applied PCA, we use these features of the PCA applied features in the experiments in Phase-3."
   ]
  },
  {
   "cell_type": "code",
   "execution_count": 98,
   "metadata": {},
   "outputs": [
    {
     "name": "stdout",
     "output_type": "stream",
     "text": [
      "Number of correctly classified predicitons for the test dataset is 1000\n",
      "Accuracy: % 100.0\n"
     ]
    }
   ],
   "source": [
    "clf2 = svm.SVC(C=np.inf,kernel=\"rbf\")\n",
    "clf2.fit(x_train_original,y_train_)\n",
    "prediction=clf2.predict(x_test_original)\n",
    "check_correctness(prediction,y_test_)"
   ]
  },
  {
   "cell_type": "markdown",
   "metadata": {},
   "source": [
    "To make a comparion in the code above, we have tested the 3d shapes data without any feature extraction, we got the 100% accuracy by directly applying SVM on 4096 features with hard margin and rbf kernel. But comparing the runtimes, it takes more than a minute to compute this value but with the 8 feature version it takes seconds and gave 98.5% accuracy. "
   ]
  },
  {
   "cell_type": "markdown",
   "metadata": {},
   "source": [
    "## Q1 h)"
   ]
  },
  {
   "cell_type": "markdown",
   "metadata": {},
   "source": [
    "In Phase-1, we have applied Linear Regression on 3d shapes data, and we get the Mean Square Error, 0.06542296461734323, on 1000 test samples as the outcome. It is not directly comparable with the following accuracy values since it is a regression problem but the following ones are classification problems. To solve a classification problem like this with discrete target values, Linear Regression is not the optimal choice\n",
    "\n",
    "In Phase-2, we have applied Logistic Regression and Naive Bayes on 3d shapes dataset. We applied a multiclass logistic regressin by using cross entropy loss function and get the accuracy results as 97.8 % in the version without using any regularization. And for the Naive Bayes, We got 97.7 % test accuracy from the library function. Even though Naive Bayes gives a high accuracy score, because of it is a generative model which relies on the given data, it might not be as generalizable as other discriminative classifiers.\n",
    "\n",
    "In Phase-3, for the multiclass classification we have tried svm function from library as the classifier in part f and got the classification accuracy as 98.5 %  on test data. We did not get the best possible result because we only use most important features that we got in Phase-2. In (g) part of the question we have directly applied SVM on the raw data with 4096 features and got the result as 100% accuracy. We can infer from the results that when we increase the number of features used, we get more accuracy but it doesn't increase to much. Also, considering the runtimes, using less but representative features would be a more robust option.\n",
    "\n",
    "\n",
    "Both Logistic Regression, Naive Bayes and Support Vector Machines give similiar kind of high test accuracy for the given dataset. Since also using their built-in functions are easy, we reccomend using one of them for such a classification problem. "
   ]
  },
  {
   "cell_type": "markdown",
   "metadata": {},
   "source": [
    "## Q2 a)"
   ]
  },
  {
   "cell_type": "markdown",
   "metadata": {},
   "source": [
    "In the below code, 500 random numbers between 0 and 1 are generated to randomly choose one of the 4 distributions. If the random number is smaller than 0.25 the first distribution is chosen so the distribution's mean $\\mu=(0,1)$ is saved, if the random is between 0.25 and 0.5 then the second distributions is chosen and its $\\mu=(1,0)$ is saved, if the random is between 0.5 and 0.75 then the third distribution is chosen and its $\\mu=(-1,0)$ is saved and finally if the random is bigger than 0.75 then the fourth distribution is chosen and its $\\mu=(0,-1)$ is saved. The means are stored in the means array. This array will be used to create the points sampled from these distributions."
   ]
  },
  {
   "cell_type": "code",
   "execution_count": 25,
   "metadata": {},
   "outputs": [],
   "source": [
    "tmp=np.random.rand(500)\n",
    "means=np.zeros((500,2))\n",
    "for i in range(500):\n",
    "    el=tmp[i]\n",
    "    if el<0.25:\n",
    "        means[i,:]=[0,1]\n",
    "    elif el>=0.25 and el<0.5:\n",
    "        means[i,:]=[1,0]\n",
    "    elif el>=0.5 and el<0.75:\n",
    "        means[i,:]=[-1,0]\n",
    "    else:\n",
    "        means[i,:]=[0,-1]"
   ]
  },
  {
   "cell_type": "markdown",
   "metadata": {},
   "source": [
    "In the below code, 500 points with diemsnion 2 are sampled using numpy's multivariate normal distribution function. This function takes a mean array and a covariance matrix. Each value in the mean array corresponds to the mean of that dimension of the point and each diagonal cell of the covariance matrix corresponds to the variance of that dimension. Mean array and the covariance matrix are put into this multivariate gaussian distribution probability function to find the sampled point: $\\frac{1}{(2\\pi)^{\\frac{d}{2}}|\\sum|^{\\frac{1}{2}}}exp(-\\frac{1}{2}(x-\\mu)^{T}\\sum^{-1}(x-\\mu))$ where here d=2, $\\mu$ is an array of shape 2 and $\\sum$ is a matrix of shape 2x2."
   ]
  },
  {
   "cell_type": "code",
   "execution_count": 26,
   "metadata": {},
   "outputs": [],
   "source": [
    "# since all samples have the same covariance matrixes we can use the below code to get the eigenvalues and eigenvectors for each sample\n",
    "identity=np.identity(2)\n",
    "colors=[]\n",
    "X=np.zeros((500,2))\n",
    "for i in range(500):\n",
    "    X[i]=np.random.multivariate_normal(means[i,:], identity)\n",
    "    if (means[i,:]==[0,1]).all():\n",
    "        colors.append(\"r\")\n",
    "    elif (means[i,:]==[1,0]).all():\n",
    "        colors.append(\"b\")\n",
    "    elif (means[i,:]==[-1,0]).all():\n",
    "        colors.append(\"yellow\")\n",
    "    else:\n",
    "        colors.append(\"green\")"
   ]
  },
  {
   "cell_type": "markdown",
   "metadata": {},
   "source": [
    "In the below code we see the scattered 500 points sampled from 4 different distributions which are labeled with different colors."
   ]
  },
  {
   "cell_type": "code",
   "execution_count": 27,
   "metadata": {},
   "outputs": [
    {
     "data": {
      "text/plain": [
       "<matplotlib.collections.PathCollection at 0x7fb981cbad00>"
      ]
     },
     "execution_count": 27,
     "metadata": {},
     "output_type": "execute_result"
    },
    {
     "data": {
      "image/png": "[encoded data removed]",
      "text/plain": [
       "<Figure size 576x576 with 1 Axes>"
      ]
     },
     "metadata": {
      "needs_background": "light"
     },
     "output_type": "display_data"
    }
   ],
   "source": [
    "plt.figure(figsize=(8,8))\n",
    "plt.scatter(X[:,0],X[:,1],c=colors)"
   ]
  },
  {
   "cell_type": "markdown",
   "metadata": {},
   "source": [
    "## Q2 b)"
   ]
  },
  {
   "cell_type": "code",
   "execution_count": 28,
   "metadata": {},
   "outputs": [],
   "source": [
    "indexes=np.random.randint(0,500,size=(1,4))[0]\n",
    "centroids=[X[indexes[i],:] for i in range(4)]\n",
    "labels=[1,2,3,4]\n",
    "old_centroids=centroids.copy()\n",
    "begin=True\n",
    "while begin or (not np.array_equal(np.array(old_centroids),np.array(centroids))):\n",
    "    begin=False\n",
    "    old_centroids=centroids.copy()\n",
    "    cluster_1=np.zeros((1,2))\n",
    "    cluster_2=np.zeros((1,2))\n",
    "    cluster_3=np.zeros((1,2))\n",
    "    cluster_4=np.zeros((1,2))\n",
    "    el_1=[]\n",
    "    el_2=[]\n",
    "    el_3=[]\n",
    "    el_4=[]\n",
    "    for j in range(500):\n",
    "        vals=[]\n",
    "        vals.append((np.linalg.norm(X[j]-centroids[0],2),labels[0]))\n",
    "        vals.append((np.linalg.norm(X[j]-centroids[1],2),labels[1]))\n",
    "        vals.append((np.linalg.norm(X[j]-centroids[2],2),labels[2]))\n",
    "        vals.append((np.linalg.norm(X[j]-centroids[3],2),labels[3]))\n",
    "        \n",
    "        vals.sort(key=lambda k:k[0])\n",
    "        label=vals[0][1]\n",
    "        if label==1:\n",
    "            cluster_1+=X[j]\n",
    "            el_1.append(X[j])\n",
    "        elif label==2:\n",
    "            cluster_2+=X[j]\n",
    "            el_2.append(X[j])\n",
    "        elif label==3:\n",
    "            cluster_3+=X[j]\n",
    "            el_3.append(X[j])\n",
    "        else:\n",
    "            cluster_4+=X[j]\n",
    "            el_4.append(X[j])\n",
    "    centroids[0]=(cluster_1/len(el_1))[0]\n",
    "    centroids[1]=(cluster_2/len(el_2))[0]\n",
    "    centroids[2]=(cluster_3/len(el_3))[0]\n",
    "    centroids[3]=(cluster_4/len(el_4))[0]"
   ]
  },
  {
   "cell_type": "code",
   "execution_count": 29,
   "metadata": {},
   "outputs": [
    {
     "data": {
      "text/plain": [
       "[array([-0.34575286, -1.26684489]),\n",
       " array([ 1.52882038, -0.4956903 ]),\n",
       " array([-1.33947731,  0.28904969]),\n",
       " array([0.55938394, 1.31593335])]"
      ]
     },
     "execution_count": 29,
     "metadata": {},
     "output_type": "execute_result"
    }
   ],
   "source": [
    "centroids"
   ]
  },
  {
   "cell_type": "markdown",
   "metadata": {},
   "source": [
    "Here we can see the optimal centroids. The centroids are very close to the means of 4 distributions."
   ]
  },
  {
   "cell_type": "code",
   "execution_count": 30,
   "metadata": {},
   "outputs": [
    {
     "data": {
      "image/png": "[encoded data removed]",
      "text/plain": [
       "<Figure size 1080x1080 with 1 Axes>"
      ]
     },
     "metadata": {
      "needs_background": "light"
     },
     "output_type": "display_data"
    }
   ],
   "source": [
    "cluster_1_x=np.array(el_1)\n",
    "cluster_2_x=np.array(el_2)\n",
    "cluster_3_x=np.array(el_3)\n",
    "cluster_4_x=np.array(el_4)\n",
    "\n",
    "plt.figure(figsize=(15,15))\n",
    "plt.scatter(cluster_1_x[:,0],cluster_1_x[:,1],c=\"r\")\n",
    "plt.scatter(cluster_2_x[:,0],cluster_2_x[:,1],c=\"b\")\n",
    "plt.scatter(cluster_3_x[:,0],cluster_3_x[:,1],c=\"yellow\")\n",
    "plt.scatter(cluster_4_x[:,0],cluster_4_x[:,1],c=\"green\")\n",
    "for i in range(4):\n",
    "    plt.scatter(centroids[i][0],centroids[i][1],200,marker=\"+\",c=\"black\")"
   ]
  },
  {
   "cell_type": "markdown",
   "metadata": {},
   "source": [
    "Centroids are denoted with black + symbols and different clusters are represent with different colors.\n",
    "The k-means algorithm was able to correctly classify points from 4 different distributions with means $(0,1)$, $(0,-1)$, $(-1,0)$ and $(1,0)$ because the centroids of points which we printed in the above code are close to these distribution means. "
   ]
  }
 ],
 "metadata": {
  "interpreter": {
   "hash": "3a437b51a0fd22f634d0d9589e8d1ac73b7eb49b172e34986eb13961cef86d55"
  },
  "kernelspec": {
   "display_name": "Python 3.9.12 ('cmpe484_env')",
   "language": "python",
   "name": "python3"
  },
  "language_info": {
   "codemirror_mode": {
    "name": "ipython",
    "version": 3
   },
   "file_extension": ".py",
   "mimetype": "text/x-python",
   "name": "python",
   "nbconvert_exporter": "python",
   "pygments_lexer": "ipython3",
   "version": "3.9.12"
  },
  "orig_nbformat": 4
 },
 "nbformat": 4,
 "nbformat_minor": 2
}
